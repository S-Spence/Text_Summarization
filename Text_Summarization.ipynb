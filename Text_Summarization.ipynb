{
  "nbformat": 4,
  "nbformat_minor": 0,
  "metadata": {
    "colab": {
      "name": "Text_Summarization.ipynb",
      "provenance": []
    },
    "kernelspec": {
      "name": "python3",
      "display_name": "Python 3"
    },
    "language_info": {
      "name": "python"
    }
  },
  "cells": [
    {
      "cell_type": "markdown",
      "metadata": {
        "id": "xrCnlYyenepI"
      },
      "source": [
        "The notebook below uses the nltk package (Natural Language Tool Kit) to create a summary of online articles. The sample article is a wikipedia article about reinforcement learning. Change the URL to get a summary of a different article. An article by Ekta Shah guided this approach to text summarization. \n",
        "https://www.analyticsvidhya.com/blog/2020/12/tired-of-reading-long-articles-text-summarization-will-make-your-task-easier/."
      ]
    },
    {
      "cell_type": "code",
      "metadata": {
        "colab": {
          "base_uri": "https://localhost:8080/"
        },
        "id": "AWWf-pz9VATV",
        "outputId": "befaedbb-9abf-45b3-b288-a3764a72ae6e"
      },
      "source": [
        "! pip install bs4\n",
        "! pip install lxml\n",
        "! pip install --user -U nltk\n",
        "\n",
        "import bs4 as bs\n",
        "import urllib.request\n",
        "import re\n",
        "import nltk\n",
        "nltk.download('punkt')\n",
        "nltk.download('stopwords')"
      ],
      "execution_count": 65,
      "outputs": [
        {
          "output_type": "stream",
          "name": "stdout",
          "text": [
            "Requirement already satisfied: bs4 in /usr/local/lib/python3.7/dist-packages (0.0.1)\n",
            "Requirement already satisfied: beautifulsoup4 in /usr/local/lib/python3.7/dist-packages (from bs4) (4.6.3)\n",
            "Requirement already satisfied: lxml in /usr/local/lib/python3.7/dist-packages (4.2.6)\n",
            "Requirement already satisfied: nltk in /root/.local/lib/python3.7/site-packages (3.6.5)\n",
            "Requirement already satisfied: click in /usr/local/lib/python3.7/dist-packages (from nltk) (7.1.2)\n",
            "Requirement already satisfied: tqdm in /usr/local/lib/python3.7/dist-packages (from nltk) (4.62.3)\n",
            "Requirement already satisfied: joblib in /usr/local/lib/python3.7/dist-packages (from nltk) (1.0.1)\n",
            "Requirement already satisfied: regex>=2021.8.3 in /root/.local/lib/python3.7/site-packages (from nltk) (2021.10.8)\n",
            "[nltk_data] Downloading package punkt to /root/nltk_data...\n",
            "[nltk_data]   Package punkt is already up-to-date!\n",
            "[nltk_data] Downloading package stopwords to /root/nltk_data...\n",
            "[nltk_data]   Package stopwords is already up-to-date!\n"
          ]
        },
        {
          "output_type": "execute_result",
          "data": {
            "text/plain": [
              "True"
            ]
          },
          "metadata": {},
          "execution_count": 65
        }
      ]
    },
    {
      "cell_type": "markdown",
      "metadata": {
        "id": "TO9fM3kSYA5i"
      },
      "source": [
        "The code below obtains data through web scraping. The code uses the the BeautifulSoup and lxml libraries to parse text. Swap in another URL to summarize another article. "
      ]
    },
    {
      "cell_type": "code",
      "metadata": {
        "id": "7ggR_Z68XKmT"
      },
      "source": [
        "# Replace URL with another article\n",
        "scraped_data = urllib.request.urlopen('https://en.wikipedia.org/wiki/Reinforcement_learning')\n",
        "article = scraped_data.read()\n",
        "parsed_article = bs.BeautifulSoup(article, 'lxml')\n",
        "paragraphs = parsed_article.find_all('p')\n",
        "article_text = \"\"\n",
        "for p in paragraphs:\n",
        "  article_text += p.text"
      ],
      "execution_count": 66,
      "outputs": []
    },
    {
      "cell_type": "code",
      "metadata": {
        "colab": {
          "base_uri": "https://localhost:8080/"
        },
        "id": "bR0P7ip2YaAy",
        "outputId": "2ab57ea2-aaff-48d7-fff8-0861b99c3e57"
      },
      "source": [
        "# Remove square brackets and extra spaces from article\n",
        "original_word_count = article_text.count(\" \") + 2\n",
        "article_text = re.sub(r\"[[0-9]*]\", \"\", article_text)\n",
        "article_text = re.sub(r\"\\s+\", \" \", article_text)\n",
        "\n",
        "# Remove special characters and extra whitespace\n",
        "formatted_text = re.sub(\"[^a-zA-Z]\", \" \", article_text)\n",
        "formatted_text = re.sub(r\"\\s+\", \" \", formatted_text)"
      ],
      "execution_count": 67,
      "outputs": [
        {
          "output_type": "stream",
          "name": "stderr",
          "text": [
            "/usr/local/lib/python3.7/dist-packages/ipykernel_launcher.py:3: FutureWarning: Possible nested set at position 1\n",
            "  This is separate from the ipykernel package so we can avoid doing imports until\n"
          ]
        }
      ]
    },
    {
      "cell_type": "markdown",
      "metadata": {
        "id": "WfIeH6rigWZr"
      },
      "source": [
        "The code below creates a word frequency count. The nltk package provides stop words. "
      ]
    },
    {
      "cell_type": "code",
      "metadata": {
        "id": "WREb0x59di0m"
      },
      "source": [
        "# break sentences into words\n",
        "sentence_list = nltk.sent_tokenize(article_text)\n",
        "# obtain stop words from nltk library\n",
        "stopwords = nltk.corpus.stopwords.words('english')\n",
        "word_frequencies = {}\n",
        "\n",
        "# Create a word count of all words that are not stopwords\n",
        "for word in nltk.word_tokenize(formatted_text):\n",
        "  if word not in stopwords:\n",
        "    if word not in word_frequencies.keys():\n",
        "      word_frequencies[word] = 1\n",
        "    else:\n",
        "      word_frequencies[word] +=1\n",
        "\n",
        "max_frequency = max(word_frequencies.values())\n",
        "\n",
        "# Calculate the weighted frequencies by dividing the frequency of each word by te max frequency \n",
        "for word in word_frequencies.keys():\n",
        "  word_frequencies[word] = (word_frequencies[word]/max_frequency)\n"
      ],
      "execution_count": 68,
      "outputs": []
    },
    {
      "cell_type": "markdown",
      "metadata": {
        "id": "a1S2xaGhjYtK"
      },
      "source": [
        "Calculate scores for the sentences."
      ]
    },
    {
      "cell_type": "code",
      "metadata": {
        "colab": {
          "base_uri": "https://localhost:8080/"
        },
        "id": "_glX5KGhjXtq",
        "outputId": "655e1270-c062-4126-fb60-b21c3bdee4f7"
      },
      "source": [
        "sentence_scores = {}\n",
        "for sentence in sentence_list:\n",
        "  for word in nltk.word_tokenize(sentence.lower()):\n",
        "    if word in word_frequencies.keys() and len(sentence.split(' ')) < 30:\n",
        "        if sentence not in sentence_scores.keys():\n",
        "          sentence_scores[sentence] = word_frequencies[word]\n",
        "        else:\n",
        "          sentence_scores[sentence] += word_frequencies[word]\n",
        "print(sentence_scores)"
      ],
      "execution_count": 69,
      "outputs": [
        {
          "output_type": "stream",
          "name": "stdout",
          "text": [
            "{'Reinforcement learning is one of three basic machine learning paradigms, alongside supervised learning and unsupervised learning.': 2.9726027397260277, 'Reinforcement learning differs from supervised learning in not needing labelled input/output pairs be presented, and in not needing sub-optimal actions to be explicitly corrected.': 1.9315068493150684, 'The environment is typically stated in the form of a Markov decision process (MDP), because many reinforcement learning algorithms for this context use dynamic programming techniques.': 1.753424657534247, 'In the operations research and control literature, reinforcement learning is called approximate dynamic programming, or neuro-dynamic programming.': 1.3561643835616437, 'In economics and game theory, reinforcement learning may be used to explain how equilibrium may arise under bounded rationality.': 1.4931506849315073, 'This is similar to processes that appear to occur in animal psychology.': 0.1232876712328767, 'For example, biological brains are hardwired to interpret signals such as pain and hunger as negative reinforcements, and interpret pleasure and food intake as positive reinforcements.': 0.3561643835616438, 'In some circumstances, animals can learn to engage in behaviors that optimize these rewards.': 0.2191780821917808, 'This suggests that animals are capable of reinforcement learning.': 0.9452054794520548, 'A basic reinforcement learning agent AI interacts with its environment in discrete time steps.': 1.410958904109589, 'At each time t, the agent receives the current state s t {\\\\displaystyle s_{t}} and reward r t {\\\\displaystyle r_{t}} .': 1.0684931506849313, 'It then chooses an action a t {\\\\displaystyle a_{t}} from the set of available actions, which is subsequently sent to the environment.': 0.8904109589041096, 'Formulating the problem as an MDP assumes the agent directly observes the current environmental state; in this case the problem is said to have full observability.': 1.3835616438356166, 'In both cases, the set of actions available to the agent can be restricted.': 0.6301369863013698, \"When the agent's performance is compared to that of an agent that acts optimally, the difference in performance gives rise to the notion of regret.\": 0.9452054794520548, 'Thus, reinforcement learning is particularly well-suited to problems that include a long-term versus short-term reward trade-off.': 1.3150684931506849, 'It has been applied successfully to various problems, including robot control, elevator scheduling, telecommunications, backgammon, checkers and Go (AlphaGo).': 0.410958904109589, 'Two elements make reinforcement learning powerful: the use of samples to optimize performance and the use of function approximation to deal with large environments.': 2.068493150684932, 'However, reinforcement learning converts both planning problems to machine learning problems.': 1.876712328767123, 'The exploration vs. exploitation trade-off has been most thoroughly studied through the multi-armed bandit problem and for finite state space MDPs in Burnetas and Katehakis (1997).': 1.0821917808219177, 'Reinforcement learning requires clever exploration mechanisms; randomly selecting actions, without reference to an estimated probability distribution, shows poor performance.': 1.5753424657534247, 'The case of (small) finite Markov decision processes is relatively well understood.': 0.410958904109589, 'One such method is ε {\\\\displaystyle \\\\varepsilon } -greedy, where 0 < ε < 1 {\\\\displaystyle 0<\\\\varepsilon <1} is a parameter controlling the amount of exploration vs. exploitation.': 0.4794520547945205, 'Alternatively, with probability ε {\\\\displaystyle \\\\varepsilon } , exploration is chosen, and the action is chosen uniformly at random.': 0.7945205479452055, 'ε {\\\\displaystyle \\\\varepsilon } is usually a fixed parameter but can be adjusted either according to a schedule (making the agent explore progressively less), or adaptively based on heuristics.': 0.7397260273972603, ': 61 There are also deterministic policies.': 0.2602739726027397, 'Value function V π ( s ) {\\\\displaystyle V_{\\\\pi }(s)} is defined as the expected return starting with state s {\\\\displaystyle s} , i.e.': 1.3835616438356164, 's 0 = s {\\\\displaystyle s_{0}=s} , and successively following policy π {\\\\displaystyle \\\\pi } .': 0.6575342465753424, 'Hence, roughly speaking, the value function estimates \"how good\" it is to be in a given state.': 1.2876712328767124, 'Gamma is less than 1, so events in the distant future are weighted less than events in the immediate future.': 0.3561643835616438, 'The algorithm must find a policy with maximum expected return.': 1.0, 'From the theory of MDPs it is known that, without loss of generality, the search can be restricted to the set of so-called stationary policies.': 0.7671232876712328, \"A policy is stationary if the action-distribution returned by it depends only on the last state visited (from the observation agent's history).\": 1.4383561643835618, 'The search can be further restricted to deterministic stationary policies.': 0.4246575342465753, 'A deterministic stationary policy deterministically selects actions based on the current state.': 1.6575342465753424, 'The brute force approach entails two steps: One problem with this is that the number of policies can be large, or even infinite.': 0.821917808219178, 'Another is that the variance of the returns may be large, which requires many samples to accurately estimate the return of each policy.': 1.356164383561644, 'These problems can be ameliorated if we assume some structure and allow samples generated from one policy to influence the estimates made for others.': 1.1095890410958906, 'The two main approaches for achieving this are value function estimation and direct policy search.': 1.5753424657534247, 'Again, an optimal policy can always be found amongst stationary policies.': 1.095890410958904, 'Although state-values suffice to define optimality, it is useful to define action-values.': 0.2054794520547945, 'In summary, the knowledge of the optimal action-value function alone suffices to know how to act optimally.': 0.821917808219178, 'Assuming full knowledge of the MDP, the two basic approaches to compute the optimal action-value function are value iteration and policy iteration.': 2.0, 'Computing these functions involves computing expectations over the whole state-space, which is impractical for all but the smallest (finite) MDPs.': 0.273972602739726, 'In reinforcement learning methods, expectations are approximated by averaging over samples and using function approximation techniques to cope with the need to represent value functions over large state-action spaces.': 2.4931506849315075, 'Monte Carlo methods can be used in an algorithm that mimics policy iteration.': 1.3013698630136985, 'Policy iteration consists of two steps: policy evaluation and policy improvement.': 2.095890410958904, 'Monte Carlo is used in the policy evaluation step.': 0.8356164383561644, 'Given sufficient time, this procedure can thus construct a precise estimate Q {\\\\displaystyle Q} of the action-value function Q π {\\\\displaystyle Q^{\\\\pi }} .': 0.7397260273972602, 'This finishes the description of the policy evaluation step.': 0.7397260273972603, 'In practice lazy evaluation can defer the computation of the maximizing actions to when they are needed.': 0.3561643835616438, 'Problems with this procedure include: The first problem is corrected by allowing the procedure to change the policy (at some or all states) before the values settle.': 1.4794520547945207, 'This too may be problematic as it might prevent convergence.': 0.2191780821917808, 'Most current algorithms do this, giving rise to the class of generalized policy iteration algorithms.': 1.3698630136986303, 'Many actor-critic methods belong to this category.': 0.5342465753424659, 'The second issue can be corrected by allowing trajectories to contribute to any state-action pair in them.': 0.273972602739726, 'Some methods try to combine the two approaches.': 0.6849315068493149, 'Methods based on temporal differences also overcome the fourth issue.': 0.9315068493150686, 'In order to address the fifth issue, function approximation methods are used.': 1.1506849315068493, 'Linear function approximation starts with a mapping ϕ {\\\\displaystyle \\\\phi } that assigns a finite-dimensional vector to each state-action pair.': 0.6438356164383561, 'Methods based on ideas from nonparametric statistics (which can be seen to construct their own features) have been explored.': 0.7534246575342465, 'Value iteration can also be used as a starting point, giving rise to the Q-learning algorithm and its many variants.': 0.8630136986301369, 'Using the so-called compatible function approximation method compromises generality and efficiency.': 0.6849315068493151, 'Another problem specific to TD comes from their reliance on the recursive Bellman equation.': 0.2876712328767123, 'This can be effective in palliating this issue.': 0.1095890410958904, 'An alternative method is to search directly in (some subset of) the policy space, in which case the problem becomes a case of stochastic optimization.': 1.36986301369863, 'The two approaches available are gradient-based and gradient-free methods.': 0.726027397260274, 'Defining the performance function by under mild conditions this function will be differentiable as a function of the parameter vector θ {\\\\displaystyle \\\\theta } .': 1.315068493150685, 'If the gradient of ρ {\\\\displaystyle \\\\rho } was known, one could use gradient ascent.': 0.547945205479452, 'Since an analytic expression for the gradient is not available, only a noisy estimate is available.': 0.4657534246575342, 'Policy search methods have been used in the robotics context.': 1.3013698630136985, 'Many policy search methods may get stuck in local optima (as they are based on local search).': 1.7671232876712333, 'A large class of methods avoids relying on gradient information.': 0.7397260273972603, 'These include simulated annealing, cross-entropy search or methods of evolutionary computation.': 0.6986301369863013, 'Many gradient-free methods can achieve (in theory and in the limit) a global optimum.': 0.6849315068493154, 'Policy search methods may converge slowly given noisy data.': 1.4931506849315066, 'For example, this happens in episodic problems when the trajectories are long and the variance of the returns is large.': 0.6027397260273972, 'Value-function based methods that rely on temporal differences might help in this case.': 0.9178082191780821, 'In recent years, actor–critic methods have been proposed and performed well on various problems.': 0.7397260273972602, 'Finally, all of the above methods can be combined with algorithms that first learn a model.': 0.8904109589041096, 'For instance, the Dyna algorithm learns a model from experience, and uses that to provide more modelled transitions for a value function, in addition to the real transitions.': 1.0, \"Such methods can sometimes be extended to use of non-parametric models, such as when the transitions are simply stored and 'replayed' to the learning algorithm.\": 1.315068493150685, 'There are other ways to use models than to update a value function.': 0.7808219178082192, 'For instance, in model predictive control the model is used to update the behavior directly.': 0.5616438356164384, 'Both the asymptotic and finite-sample behaviors of most algorithms are well understood.': 0.3835616438356164, 'Algorithms with provably good online performance (addressing the exploration issue) are known.': 0.6986301369863014, 'Efficient exploration of MDPs is given in Burnetas and Katehakis (1997).': 0.2465753424657534, 'For incremental algorithms, asymptotic convergence issues have been settled[clarification needed.': 0.410958904109589, 'Temporal-difference-based algorithms converge under a wider set of conditions than was previously possible (for example, when used with arbitrary, smooth function approximation).': 1.1232876712328768, 'Research topics include Associative reinforcement learning tasks combine facets of stochastic learning automata tasks and supervised learning pattern classification tasks.': 2.5479452054794525, 'In associative reinforcement learning tasks, the learning system interacts in a closed loop with its environment.': 1.7260273972602738, 'This approach extends reinforcement learning by using a deep neural network and without explicitly designing the state space.': 1.6712328767123288, 'The work on learning ATARI games by Google DeepMind increased attention to deep reinforcement learning or end-to-end reinforcement learning.': 2.452054794520548, 'In inverse reinforcement learning (IRL), no reward function is given.': 1.506849315068493, 'Instead, the reward function is inferred given an observed behavior from an expert.': 0.7123287671232876, 'The idea is to mimic observed behavior, which is often optimal or close to optimal.': 0.684931506849315, 'In PSRL algorithms the advantages of supervised and RL based approaches are synergistically combined.': 0.7260273972602739, 'Partially supervised approaches can alleviate the need for extensive training data in supervised learning while reducing the need for costly exhaustive random exploration in pure RL.': 1.356164383561644}\n"
          ]
        }
      ]
    },
    {
      "cell_type": "markdown",
      "metadata": {
        "id": "E-CKwTLYpuVh"
      },
      "source": [
        "The code below creates a summary using the top n sentences in the sentence scores dictionary. "
      ]
    },
    {
      "cell_type": "code",
      "metadata": {
        "colab": {
          "base_uri": "https://localhost:8080/"
        },
        "id": "r5-OgEO3lShN",
        "outputId": "39eea9d1-0bb0-4fba-afc7-61be22ec1a0a"
      },
      "source": [
        "import heapq\n",
        "import textwrap\n",
        "\n",
        "# Create a summary of sentences using the top n sentences. \n",
        "summary_sentences = heapq.nlargest(7, sentence_scores, key=sentence_scores.get)\n",
        "summary = \" \".join(summary_sentences)\n",
        "\n",
        "# Format paragraph output\n",
        "summary = textwrap.dedent(summary).strip()\n",
        "print(textwrap.fill(summary, width = 60))\n",
        "print(\"\")\n",
        "\n",
        "# Print orignal word count and summary word count\n",
        "word_count_summary = summary.count(\" \") + 2\n",
        "print(f\"Summary Word Count: {word_count_summary}\")\n",
        "print(f\"Original wWord Count: {original_word_count}\")"
      ],
      "execution_count": 70,
      "outputs": [
        {
          "output_type": "stream",
          "name": "stdout",
          "text": [
            "Reinforcement learning is one of three basic machine\n",
            "learning paradigms, alongside supervised learning and\n",
            "unsupervised learning. Research topics include Associative\n",
            "reinforcement learning tasks combine facets of stochastic\n",
            "learning automata tasks and supervised learning pattern\n",
            "classification tasks. In reinforcement learning methods,\n",
            "expectations are approximated by averaging over samples and\n",
            "using function approximation techniques to cope with the\n",
            "need to represent value functions over large state-action\n",
            "spaces. The work on learning ATARI games by Google DeepMind\n",
            "increased attention to deep reinforcement learning or end-\n",
            "to-end reinforcement learning. Policy iteration consists of\n",
            "two steps: policy evaluation and policy improvement. Two\n",
            "elements make reinforcement learning powerful: the use of\n",
            "samples to optimize performance and the use of function\n",
            "approximation to deal with large environments. Assuming full\n",
            "knowledge of the MDP, the two basic approaches to compute\n",
            "the optimal action-value function are value iteration and\n",
            "policy iteration.\n",
            "\n",
            "Summary Word Count: 142\n",
            "Original wWord Count: 3092\n"
          ]
        }
      ]
    }
  ]
}